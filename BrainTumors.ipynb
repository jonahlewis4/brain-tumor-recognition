{
  "nbformat": 4,
  "nbformat_minor": 0,
  "metadata": {
    "colab": {
      "provenance": [],
      "include_colab_link": true
    },
    "kernelspec": {
      "name": "python3",
      "display_name": "Python 3"
    },
    "language_info": {
      "name": "python"
    }
  },
  "cells": [
    {
      "cell_type": "markdown",
      "metadata": {
        "id": "view-in-github",
        "colab_type": "text"
      },
      "source": [
        "<a href=\"https://colab.research.google.com/github/jonahlewis4/brain-tumor-recognition/blob/main/BrainTumors.ipynb\" target=\"_parent\"><img src=\"https://colab.research.google.com/assets/colab-badge.svg\" alt=\"Open In Colab\"/></a>"
      ]
    },
    {
      "cell_type": "code",
      "execution_count": null,
      "metadata": {
        "id": "vGTiFEOW8tnC"
      },
      "outputs": [],
      "source": [
        "lol"
      ]
    },
    {
      "cell_type": "markdown",
      "source": [
        "*test*"
      ],
      "metadata": {
        "id": "dkzmSN6_G09v"
      }
    },
    {
      "cell_type": "markdown",
      "source": [
        "another test\n"
      ],
      "metadata": {
        "id": "5PDhouU4KP_e"
      }
    }
  ]
}